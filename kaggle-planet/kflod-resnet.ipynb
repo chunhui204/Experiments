{
 "cells": [
  {
   "cell_type": "code",
   "execution_count": 2,
   "metadata": {},
   "outputs": [],
   "source": [
    "%reload_ext autoreload\n",
    "%autoreload 2\n",
    "%matplotlib inline\n",
    "\n",
    "import numpy as np\n",
    "import os\n",
    "import pandas as pd\n",
    "import matplotlib.pyplot as plt\n",
    "\n",
    "from fastai.imports import *\n",
    "from fastai.conv_learner import *\n",
    "from fastai.transforms import *\n",
    "from fastai.model import *\n",
    "from fastai.dataset import *\n",
    "from fastai.sgdr import *\n",
    "from fastai.plots import *\n",
    "from torch import nn\n",
    "import torch.nn.functional as F\n",
    "from callback import *\n",
    "from sklearn.metrics import fbeta_score\n",
    "from sklearn.model_selection import KFold\n",
    "\n",
    "IMG_PATH = 'train-jpg/'\n",
    "LBL_PATH = 'train_v2.csv'\n",
    "n_classes = 17\n",
    "stats = [[0,0,0], [255.,255.,255.]]\n",
    "\n",
    "sz = 256\n",
    "bs=32\n",
    "\n",
    "val_idxs = get_cv_idxs(len(os.listdir(IMG_PATH)))\n",
    "\n",
    "def f2(preds, y):\n",
    "    ret = fbeta_score(y, preds>0.2, beta=2, average='samples')\n",
    "    return ret\n",
    "\n",
    "def get_data(sz, val_idxs):\n",
    "    tfms = tfms_from_stats(stats, sz, aug_tfms=transforms_top_down, max_zoom=1.1)\n",
    "    data = ImageClassifierData.from_csv('.', 'train-jpg', 'train_v2.csv',bs, tfms, \n",
    "                                        val_idxs=val_idxs, \n",
    "                                        suffix='.jpg',\n",
    "                                        test_name='test-jpg')\n",
    "    return data\n",
    "\n",
    "def get_model(data):\n",
    "    custom_head = nn.Sequential(nn.AdaptiveAvgPool2d(1), \n",
    "                            Flatten(),\n",
    "                            nn.Linear(512, n_classes),\n",
    "                            nn.Sigmoid())\n",
    "\n",
    "    model = ConvnetBuilder(resnet34, 0,0,0,custom_head=custom_head)\n",
    "\n",
    "    # learn = ConvLearner.from_model_data(model, get_data(sz), metrics=[f2])\n",
    "    learn = ConvLearner(data, model, metrics=[f2])\n",
    "    \n",
    "    return learn\n",
    "\n",
    "def predict(learn, k):\n",
    "    pred,y =learn.TTA(is_test=True)\n",
    "    pred = np.mean(pred, 0)\n",
    "\n",
    "#     c = np.array(learn.data.classes)\n",
    "\n",
    "#     label_text = np.array([' '.join(c[p>thres_opt]) for p in pred])\n",
    "\n",
    "#     df = pd.DataFrame({'image_name': [f[9:-4] for f in learn.data.test_ds.fnames], \n",
    "#                        'tags': label_text})\n",
    "    df = pd.DataFrame(pred, columns=learn.data.classes)\n",
    "    df.insert(0, 'id', [f[9:-4] for f in learn.data.test_ds.fnames])\n",
    "\n",
    "    df.to_csv('pred'+str(k)+'.csv', index=False)\n",
    "    \n",
    "def train(learn, k):\n",
    "    lr=1e-2\n",
    "    lrs=[lr/10,lr/4,lr]\n",
    "    learn.fit(lrs, 2, cycle_len = 8, use_clr=(20, 8), \n",
    "              callbacks=[SaveBestModel(learn, lrs, 'kfold'+str(k), monitor='loss', patience=16)])\n",
    "    return learn"
   ]
  },
  {
   "cell_type": "code",
   "execution_count": 2,
   "metadata": {},
   "outputs": [
    {
     "data": {
      "application/vnd.jupyter.widget-view+json": {
       "model_id": "2cd435eb56694d7e8fd57336b47ab220",
       "version_major": 2,
       "version_minor": 0
      },
      "text/plain": [
       "HBox(children=(IntProgress(value=0, description='Epoch', max=1, style=ProgressStyle(description_width='initial…"
      ]
     },
     "metadata": {},
     "output_type": "display_data"
    },
    {
     "name": "stdout",
     "output_type": "stream",
     "text": [
      "epoch      trn_loss   val_loss   f2                            \n",
      "    0      0.444412   5.575397   0.433133  \n",
      "\n"
     ]
    },
    {
     "data": {
      "image/png": "[encoded data removed]",
      "text/plain": [
       "<Figure size 432x288 with 1 Axes>"
      ]
     },
     "metadata": {
      "needs_background": "light"
     },
     "output_type": "display_data"
    }
   ],
   "source": [
    "learn.lr_find()\n",
    "learn.sched.plot()"
   ]
  },
  {
   "cell_type": "code",
   "execution_count": 12,
   "metadata": {
    "scrolled": true
   },
   "outputs": [
    {
     "name": "stdout",
     "output_type": "stream",
     "text": [
      "............. 0 .....fold\n"
     ]
    },
    {
     "data": {
      "application/vnd.jupyter.widget-view+json": {
       "model_id": "93bb8a547c4944e09b6d72cff5219f97",
       "version_major": 2,
       "version_minor": 0
      },
      "text/plain": [
       "HBox(children=(IntProgress(value=0, description='Epoch', max=1, style=ProgressStyle(description_width='initial…"
      ]
     },
     "metadata": {},
     "output_type": "display_data"
    },
    {
     "name": "stdout",
     "output_type": "stream",
     "text": [
      "epoch      trn_loss   val_loss   f2                            \n",
      "    0      0.256544   0.253968   0.673847  \n"
     ]
    },
    {
     "data": {
      "application/vnd.jupyter.widget-view+json": {
       "model_id": "ff2076f03fbe4150b3b535592a1bffd6",
       "version_major": 2,
       "version_minor": 0
      },
      "text/plain": [
       "HBox(children=(IntProgress(value=0, description='Epoch', max=16, style=ProgressStyle(description_width='initia…"
      ]
     },
     "metadata": {},
     "output_type": "display_data"
    },
    {
     "name": "stdout",
     "output_type": "stream",
     "text": [
      "epoch      trn_loss   val_loss   f2                            \n",
      "    0      0.132514   0.118534   0.897166  \n",
      "    1      0.113256   0.10321    0.911961                      \n",
      "    2      0.104213   0.098381   0.914779                      \n",
      "    3      0.103627   0.095115   0.918158                      \n",
      "    4      0.096733   0.093459   0.919798                       \n",
      "    5      0.10072    0.092655   0.920587                       \n",
      "    6      0.100823   0.091868   0.920895                       \n",
      "    7      0.092953   0.091207   0.922014                       \n",
      "    8      0.097583   0.091936   0.919787                       \n",
      "    9      0.094807   0.091318   0.920591                       \n",
      "    10     0.095712   0.090194   0.921005                       \n",
      "    11     0.093739   0.0883     0.923795                       \n",
      "    12     0.092181   0.088261   0.924604                       \n",
      "    13     0.089214   0.087655   0.925121                       \n",
      "    14     0.089447   0.08758    0.92526                        \n",
      "    15     0.089296   0.087301   0.925017                       \n",
      "best model, [0.0873] -0.9250174297800692\n",
      "............. 1 .....fold                    \n"
     ]
    },
    {
     "data": {
      "application/vnd.jupyter.widget-view+json": {
       "model_id": "9f60a4bccd6246ea85a178258fd8b483",
       "version_major": 2,
       "version_minor": 0
      },
      "text/plain": [
       "HBox(children=(IntProgress(value=0, description='Epoch', max=1, style=ProgressStyle(description_width='initial…"
      ]
     },
     "metadata": {},
     "output_type": "display_data"
    },
    {
     "name": "stdout",
     "output_type": "stream",
     "text": [
      "epoch      trn_loss   val_loss   f2                            \n",
      "    0      0.255947   0.253841   0.672842  \n"
     ]
    },
    {
     "data": {
      "application/vnd.jupyter.widget-view+json": {
       "model_id": "e473348894684abc87c4d00829fc35c0",
       "version_major": 2,
       "version_minor": 0
      },
      "text/plain": [
       "HBox(children=(IntProgress(value=0, description='Epoch', max=16, style=ProgressStyle(description_width='initia…"
      ]
     },
     "metadata": {},
     "output_type": "display_data"
    },
    {
     "name": "stdout",
     "output_type": "stream",
     "text": [
      "epoch      trn_loss   val_loss   f2                            \n",
      "    0      0.127007   0.117631   0.897794  \n",
      "    1      0.109148   0.102938   0.910481                      \n",
      "    2      0.107953   0.09949    0.913313                      \n",
      "    3      0.101208   0.094767   0.917374                      \n",
      "    4      0.104546   0.093717   0.917726                      \n",
      "    5      0.101446   0.092544   0.91935                        \n",
      "    6      0.092934   0.091883   0.919544                       \n",
      "    7      0.098599   0.091482   0.920345                       \n",
      "    8      0.096056   0.093303   0.918359                       \n",
      "    9      0.095908   0.090628   0.920932                       \n",
      "    10     0.094193   0.090565   0.92161                        \n",
      "    11     0.089324   0.08937    0.920851                       \n",
      "    12     0.093638   0.089008   0.921253                       \n",
      "    13     0.091082   0.087985   0.922583                       \n",
      "    14     0.088883   0.088241   0.921598                       \n",
      "    15     0.089498   0.087627   0.922692                       \n",
      "best model, [0.08763] -0.9226922385781499\n",
      "............. 2 .....fold                    \n"
     ]
    },
    {
     "data": {
      "application/vnd.jupyter.widget-view+json": {
       "model_id": "bfafc4487d3f4cbb99d251f8f857e53a",
       "version_major": 2,
       "version_minor": 0
      },
      "text/plain": [
       "HBox(children=(IntProgress(value=0, description='Epoch', max=1, style=ProgressStyle(description_width='initial…"
      ]
     },
     "metadata": {},
     "output_type": "display_data"
    },
    {
     "name": "stdout",
     "output_type": "stream",
     "text": [
      "epoch      trn_loss   val_loss   f2                            \n",
      "    0      0.255034   0.258673   0.668454  \n"
     ]
    },
    {
     "data": {
      "application/vnd.jupyter.widget-view+json": {
       "model_id": "97fb3b0c51d444ab8b61d52ab05fcaf8",
       "version_major": 2,
       "version_minor": 0
      },
      "text/plain": [
       "HBox(children=(IntProgress(value=0, description='Epoch', max=16, style=ProgressStyle(description_width='initia…"
      ]
     },
     "metadata": {},
     "output_type": "display_data"
    },
    {
     "name": "stdout",
     "output_type": "stream",
     "text": [
      "epoch      trn_loss   val_loss   f2                            \n",
      "    0      0.130822   0.121074   0.89357   \n",
      "    1      0.110801   0.103898   0.909686                      \n",
      "    2      0.101972   0.099962   0.914481                      \n",
      "    3      0.104751   0.096353   0.918122                      \n",
      "    4      0.099047   0.094878   0.918886                       \n",
      "    5      0.099015   0.094182   0.918837                       \n",
      "    6      0.098558   0.093432   0.918613                       \n",
      "    7      0.097903   0.092535   0.920363                       \n",
      "    8      0.100024   0.094352   0.9184                         \n",
      "    9      0.093811   0.092591   0.920131                       \n",
      "    10     0.091879   0.091495   0.920322                       \n",
      "    11     0.092459   0.09046    0.923203                       \n",
      "    12     0.089997   0.089457   0.922987                       \n",
      "    13     0.089741   0.089474   0.923514                       \n",
      "    14     0.087531   0.08891    0.923971                       \n",
      "    15     0.086631   0.088596   0.923577                       \n",
      "best model, [0.0886] -0.9235771672818568\n",
      "............. 3 .....fold                    \n"
     ]
    },
    {
     "data": {
      "application/vnd.jupyter.widget-view+json": {
       "model_id": "06f10dcc62074ac0b5382e227e2da92a",
       "version_major": 2,
       "version_minor": 0
      },
      "text/plain": [
       "HBox(children=(IntProgress(value=0, description='Epoch', max=1, style=ProgressStyle(description_width='initial…"
      ]
     },
     "metadata": {},
     "output_type": "display_data"
    },
    {
     "name": "stdout",
     "output_type": "stream",
     "text": [
      "epoch      trn_loss   val_loss   f2                            \n",
      "    0      0.259281   0.257582   0.669282  \n"
     ]
    },
    {
     "data": {
      "application/vnd.jupyter.widget-view+json": {
       "model_id": "584f20e3b7d54bf080782afb7bc936bf",
       "version_major": 2,
       "version_minor": 0
      },
      "text/plain": [
       "HBox(children=(IntProgress(value=0, description='Epoch', max=16, style=ProgressStyle(description_width='initia…"
      ]
     },
     "metadata": {},
     "output_type": "display_data"
    },
    {
     "name": "stdout",
     "output_type": "stream",
     "text": [
      "epoch      trn_loss   val_loss   f2                            \n",
      "    0      0.128454   0.123036   0.892157  \n",
      "    1      0.10774    0.106465   0.909147                      \n",
      "    2      0.105461   0.100756   0.913821                      \n",
      "    3      0.104022   0.097835   0.916015                      \n",
      "    4      0.094734   0.097361   0.915797                       \n",
      "    5      0.095948   0.094834   0.918136                       \n",
      "    6      0.097899   0.09439    0.918754                       \n",
      "    7      0.09865    0.093968   0.920015                       \n",
      "    8      0.096524   0.094418   0.918225                       \n",
      "    9      0.097744   0.09322    0.917643                       \n",
      "    10     0.092337   0.092991   0.920249                       \n",
      "    11     0.08899    0.090999   0.920808                       \n",
      "    12     0.090738   0.090505   0.921896                       \n",
      "    13     0.09174    0.090069   0.922689                       \n",
      "    14     0.085933   0.090042   0.922717                       \n",
      "    15     0.085667   0.089492   0.922869                       \n",
      "best model, [0.08949] -0.9228689373018121\n",
      "............. 4 .....fold                    \n"
     ]
    },
    {
     "data": {
      "application/vnd.jupyter.widget-view+json": {
       "model_id": "1a355fb4e32c494b8cc27d2a6fc0771b",
       "version_major": 2,
       "version_minor": 0
      },
      "text/plain": [
       "HBox(children=(IntProgress(value=0, description='Epoch', max=1, style=ProgressStyle(description_width='initial…"
      ]
     },
     "metadata": {},
     "output_type": "display_data"
    },
    {
     "name": "stdout",
     "output_type": "stream",
     "text": [
      "epoch      trn_loss   val_loss   f2                            \n",
      "    0      0.258828   0.255052   0.670912  \n"
     ]
    },
    {
     "data": {
      "application/vnd.jupyter.widget-view+json": {
       "model_id": "ac4ea25f299c465d9cb9f7b97d9bdb22",
       "version_major": 2,
       "version_minor": 0
      },
      "text/plain": [
       "HBox(children=(IntProgress(value=0, description='Epoch', max=16, style=ProgressStyle(description_width='initia…"
      ]
     },
     "metadata": {},
     "output_type": "display_data"
    },
    {
     "name": "stdout",
     "output_type": "stream",
     "text": [
      "epoch      trn_loss   val_loss   f2                            \n",
      "    0      0.133169   0.12022    0.889169  \n",
      "    1      0.111063   0.104558   0.905339                      \n",
      "    2      0.108138   0.099358   0.913613                      \n",
      "    3      0.104269   0.097427   0.914907                      \n",
      "    4      0.099144   0.094823   0.917689                       \n",
      "    5      0.097208   0.094427   0.917134                       \n",
      "    6      0.098132   0.093463   0.91775                        \n",
      "    7      0.098663   0.093199   0.918314                       \n",
      "    8      0.102095   0.095213   0.914235                       \n",
      "    9      0.094015   0.091813   0.918192                       \n",
      "    10     0.092426   0.090864   0.919757                       \n",
      "    11     0.08989    0.090773   0.919498                       \n",
      "    12     0.086841   0.090016   0.920433                       \n",
      "    13     0.090253   0.090358   0.920355                       \n",
      "    14     0.089906   0.090245   0.919273                       \n",
      "    15     0.087499   0.089198   0.92104                        \n",
      "best model, [0.0892] -0.9210399378378241\n",
      "                                             \r"
     ]
    }
   ],
   "source": [
    "kf = KFold(n_splits=5, shuffle=True, random_state=2018)\n",
    "k=0\n",
    "for trn_idxs, val_idxs in kf.split(np.zeros((len(os.listdir(IMG_PATH)),1))):\n",
    "    print('.............', k,'.....fold')\n",
    "    data = get_data(sz, val_idxs)\n",
    "    learn = get_model(data)\n",
    "    learn.fit(1e-2, 1, cycle_len=1)\n",
    "    learn.unfreeze()\n",
    "    learn = train(learn, k)\n",
    "    predict(learn, k)\n",
    "    k+=1"
   ]
  },
  {
   "cell_type": "code",
   "execution_count": 13,
   "metadata": {},
   "outputs": [],
   "source": [
    "df0 = pd.read_csv('pred0.csv')\n",
    "df1 = pd.read_csv('pred1.csv')\n",
    "df2 = pd.read_csv('pred2.csv')\n",
    "df3 = pd.read_csv('pred3.csv')\n",
    "df4 = pd.read_csv('pred4.csv')"
   ]
  },
  {
   "cell_type": "code",
   "execution_count": 14,
   "metadata": {},
   "outputs": [
    {
     "data": {
      "text/html": [
       "<div>\n",
       "<style scoped>\n",
       "    .dataframe tbody tr th:only-of-type {\n",
       "        vertical-align: middle;\n",
       "    }\n",
       "\n",
       "    .dataframe tbody tr th {\n",
       "        vertical-align: top;\n",
       "    }\n",
       "\n",
       "    .dataframe thead th {\n",
       "        text-align: right;\n",
       "    }\n",
       "</style>\n",
       "<table border=\"1\" class=\"dataframe\">\n",
       "  <thead>\n",
       "    <tr style=\"text-align: right;\">\n",
       "      <th></th>\n",
       "      <th>id</th>\n",
       "      <th>agriculture</th>\n",
       "      <th>artisinal_mine</th>\n",
       "      <th>bare_ground</th>\n",
       "      <th>blooming</th>\n",
       "      <th>blow_down</th>\n",
       "      <th>clear</th>\n",
       "      <th>cloudy</th>\n",
       "      <th>conventional_mine</th>\n",
       "      <th>cultivation</th>\n",
       "      <th>habitation</th>\n",
       "      <th>haze</th>\n",
       "      <th>partly_cloudy</th>\n",
       "      <th>primary</th>\n",
       "      <th>road</th>\n",
       "      <th>selective_logging</th>\n",
       "      <th>slash_burn</th>\n",
       "      <th>water</th>\n",
       "    </tr>\n",
       "  </thead>\n",
       "  <tbody>\n",
       "    <tr>\n",
       "      <th>0</th>\n",
       "      <td>test_38090</td>\n",
       "      <td>0.004727</td>\n",
       "      <td>0.000006</td>\n",
       "      <td>0.000214</td>\n",
       "      <td>0.002876</td>\n",
       "      <td>0.000732</td>\n",
       "      <td>0.999831</td>\n",
       "      <td>0.000002</td>\n",
       "      <td>0.000012</td>\n",
       "      <td>0.001792</td>\n",
       "      <td>0.000146</td>\n",
       "      <td>0.000165</td>\n",
       "      <td>0.000141</td>\n",
       "      <td>0.999983</td>\n",
       "      <td>0.001612</td>\n",
       "      <td>0.000711</td>\n",
       "      <td>0.000050</td>\n",
       "      <td>0.004315</td>\n",
       "    </tr>\n",
       "    <tr>\n",
       "      <th>1</th>\n",
       "      <td>file_7133</td>\n",
       "      <td>0.800215</td>\n",
       "      <td>0.002711</td>\n",
       "      <td>0.073661</td>\n",
       "      <td>0.015873</td>\n",
       "      <td>0.012992</td>\n",
       "      <td>0.988271</td>\n",
       "      <td>0.000209</td>\n",
       "      <td>0.002608</td>\n",
       "      <td>0.325240</td>\n",
       "      <td>0.189296</td>\n",
       "      <td>0.001785</td>\n",
       "      <td>0.016481</td>\n",
       "      <td>0.996693</td>\n",
       "      <td>0.364780</td>\n",
       "      <td>0.039451</td>\n",
       "      <td>0.034109</td>\n",
       "      <td>0.379386</td>\n",
       "    </tr>\n",
       "    <tr>\n",
       "      <th>2</th>\n",
       "      <td>file_189</td>\n",
       "      <td>0.466742</td>\n",
       "      <td>0.000533</td>\n",
       "      <td>0.012968</td>\n",
       "      <td>0.000916</td>\n",
       "      <td>0.000544</td>\n",
       "      <td>0.906671</td>\n",
       "      <td>0.000140</td>\n",
       "      <td>0.000536</td>\n",
       "      <td>0.271680</td>\n",
       "      <td>0.067639</td>\n",
       "      <td>0.062387</td>\n",
       "      <td>0.021662</td>\n",
       "      <td>0.998766</td>\n",
       "      <td>0.511500</td>\n",
       "      <td>0.006371</td>\n",
       "      <td>0.001941</td>\n",
       "      <td>0.912991</td>\n",
       "    </tr>\n",
       "  </tbody>\n",
       "</table>\n",
       "</div>"
      ],
      "text/plain": [
       "           id  agriculture  artisinal_mine  bare_ground  blooming  blow_down  \\\n",
       "0  test_38090     0.004727        0.000006     0.000214  0.002876   0.000732   \n",
       "1   file_7133     0.800215        0.002711     0.073661  0.015873   0.012992   \n",
       "2    file_189     0.466742        0.000533     0.012968  0.000916   0.000544   \n",
       "\n",
       "      clear    cloudy  conventional_mine  cultivation  habitation      haze  \\\n",
       "0  0.999831  0.000002           0.000012     0.001792    0.000146  0.000165   \n",
       "1  0.988271  0.000209           0.002608     0.325240    0.189296  0.001785   \n",
       "2  0.906671  0.000140           0.000536     0.271680    0.067639  0.062387   \n",
       "\n",
       "   partly_cloudy   primary      road  selective_logging  slash_burn     water  \n",
       "0       0.000141  0.999983  0.001612           0.000711    0.000050  0.004315  \n",
       "1       0.016481  0.996693  0.364780           0.039451    0.034109  0.379386  \n",
       "2       0.021662  0.998766  0.511500           0.006371    0.001941  0.912991  "
      ]
     },
     "execution_count": 14,
     "metadata": {},
     "output_type": "execute_result"
    }
   ],
   "source": [
    "df0.head(3)"
   ]
  },
  {
   "cell_type": "code",
   "execution_count": 17,
   "metadata": {},
   "outputs": [
    {
     "data": {
      "text/html": [
       "<div>\n",
       "<style scoped>\n",
       "    .dataframe tbody tr th:only-of-type {\n",
       "        vertical-align: middle;\n",
       "    }\n",
       "\n",
       "    .dataframe tbody tr th {\n",
       "        vertical-align: top;\n",
       "    }\n",
       "\n",
       "    .dataframe thead th {\n",
       "        text-align: right;\n",
       "    }\n",
       "</style>\n",
       "<table border=\"1\" class=\"dataframe\">\n",
       "  <thead>\n",
       "    <tr style=\"text-align: right;\">\n",
       "      <th></th>\n",
       "      <th>id</th>\n",
       "      <th>agriculture</th>\n",
       "      <th>artisinal_mine</th>\n",
       "      <th>bare_ground</th>\n",
       "      <th>blooming</th>\n",
       "      <th>blow_down</th>\n",
       "      <th>clear</th>\n",
       "      <th>cloudy</th>\n",
       "      <th>conventional_mine</th>\n",
       "      <th>cultivation</th>\n",
       "      <th>habitation</th>\n",
       "      <th>haze</th>\n",
       "      <th>partly_cloudy</th>\n",
       "      <th>primary</th>\n",
       "      <th>road</th>\n",
       "      <th>selective_logging</th>\n",
       "      <th>slash_burn</th>\n",
       "      <th>water</th>\n",
       "    </tr>\n",
       "  </thead>\n",
       "  <tbody>\n",
       "    <tr>\n",
       "      <th>0</th>\n",
       "      <td>test_38090</td>\n",
       "      <td>0.000600</td>\n",
       "      <td>4.883465e-07</td>\n",
       "      <td>0.000013</td>\n",
       "      <td>0.005012</td>\n",
       "      <td>0.000332</td>\n",
       "      <td>0.999893</td>\n",
       "      <td>0.000002</td>\n",
       "      <td>0.000002</td>\n",
       "      <td>0.000549</td>\n",
       "      <td>0.000049</td>\n",
       "      <td>0.000035</td>\n",
       "      <td>0.000055</td>\n",
       "      <td>0.999993</td>\n",
       "      <td>0.000080</td>\n",
       "      <td>0.000270</td>\n",
       "      <td>0.000009</td>\n",
       "      <td>0.000201</td>\n",
       "    </tr>\n",
       "    <tr>\n",
       "      <th>1</th>\n",
       "      <td>file_7133</td>\n",
       "      <td>0.788766</td>\n",
       "      <td>6.390858e-03</td>\n",
       "      <td>0.082785</td>\n",
       "      <td>0.020504</td>\n",
       "      <td>0.020875</td>\n",
       "      <td>0.987569</td>\n",
       "      <td>0.000389</td>\n",
       "      <td>0.004241</td>\n",
       "      <td>0.389950</td>\n",
       "      <td>0.136741</td>\n",
       "      <td>0.004185</td>\n",
       "      <td>0.012933</td>\n",
       "      <td>0.998423</td>\n",
       "      <td>0.269351</td>\n",
       "      <td>0.041187</td>\n",
       "      <td>0.055626</td>\n",
       "      <td>0.267767</td>\n",
       "    </tr>\n",
       "    <tr>\n",
       "      <th>2</th>\n",
       "      <td>file_189</td>\n",
       "      <td>0.393614</td>\n",
       "      <td>8.968714e-04</td>\n",
       "      <td>0.013738</td>\n",
       "      <td>0.002528</td>\n",
       "      <td>0.002586</td>\n",
       "      <td>0.941730</td>\n",
       "      <td>0.000211</td>\n",
       "      <td>0.001133</td>\n",
       "      <td>0.283970</td>\n",
       "      <td>0.053305</td>\n",
       "      <td>0.032129</td>\n",
       "      <td>0.010977</td>\n",
       "      <td>0.998734</td>\n",
       "      <td>0.496238</td>\n",
       "      <td>0.012688</td>\n",
       "      <td>0.004623</td>\n",
       "      <td>0.727856</td>\n",
       "    </tr>\n",
       "  </tbody>\n",
       "</table>\n",
       "</div>"
      ],
      "text/plain": [
       "           id  agriculture  artisinal_mine  bare_ground  blooming  blow_down  \\\n",
       "0  test_38090     0.000600    4.883465e-07     0.000013  0.005012   0.000332   \n",
       "1   file_7133     0.788766    6.390858e-03     0.082785  0.020504   0.020875   \n",
       "2    file_189     0.393614    8.968714e-04     0.013738  0.002528   0.002586   \n",
       "\n",
       "      clear    cloudy  conventional_mine  cultivation  habitation      haze  \\\n",
       "0  0.999893  0.000002           0.000002     0.000549    0.000049  0.000035   \n",
       "1  0.987569  0.000389           0.004241     0.389950    0.136741  0.004185   \n",
       "2  0.941730  0.000211           0.001133     0.283970    0.053305  0.032129   \n",
       "\n",
       "   partly_cloudy   primary      road  selective_logging  slash_burn     water  \n",
       "0       0.000055  0.999993  0.000080           0.000270    0.000009  0.000201  \n",
       "1       0.012933  0.998423  0.269351           0.041187    0.055626  0.267767  \n",
       "2       0.010977  0.998734  0.496238           0.012688    0.004623  0.727856  "
      ]
     },
     "execution_count": 17,
     "metadata": {},
     "output_type": "execute_result"
    }
   ],
   "source": [
    "df1.head(3)"
   ]
  },
  {
   "cell_type": "code",
   "execution_count": 37,
   "metadata": {},
   "outputs": [],
   "source": [
    "df = df0.drop(['id'],axis=1)"
   ]
  },
  {
   "cell_type": "code",
   "execution_count": 38,
   "metadata": {},
   "outputs": [],
   "source": [
    "dfs=[df1,df2,df3,df4]\n",
    "for i in range(4):\n",
    "    df += dfs[i].drop(['id'],axis=1)\n",
    "df = df / 5"
   ]
  },
  {
   "cell_type": "code",
   "execution_count": 39,
   "metadata": {},
   "outputs": [
    {
     "data": {
      "text/html": [
       "<div>\n",
       "<style scoped>\n",
       "    .dataframe tbody tr th:only-of-type {\n",
       "        vertical-align: middle;\n",
       "    }\n",
       "\n",
       "    .dataframe tbody tr th {\n",
       "        vertical-align: top;\n",
       "    }\n",
       "\n",
       "    .dataframe thead th {\n",
       "        text-align: right;\n",
       "    }\n",
       "</style>\n",
       "<table border=\"1\" class=\"dataframe\">\n",
       "  <thead>\n",
       "    <tr style=\"text-align: right;\">\n",
       "      <th></th>\n",
       "      <th>agriculture</th>\n",
       "      <th>artisinal_mine</th>\n",
       "      <th>bare_ground</th>\n",
       "      <th>blooming</th>\n",
       "      <th>blow_down</th>\n",
       "      <th>clear</th>\n",
       "      <th>cloudy</th>\n",
       "      <th>conventional_mine</th>\n",
       "      <th>cultivation</th>\n",
       "      <th>habitation</th>\n",
       "      <th>haze</th>\n",
       "      <th>partly_cloudy</th>\n",
       "      <th>primary</th>\n",
       "      <th>road</th>\n",
       "      <th>selective_logging</th>\n",
       "      <th>slash_burn</th>\n",
       "      <th>water</th>\n",
       "    </tr>\n",
       "  </thead>\n",
       "  <tbody>\n",
       "    <tr>\n",
       "      <th>0</th>\n",
       "      <td>0.002341</td>\n",
       "      <td>0.000002</td>\n",
       "      <td>0.000116</td>\n",
       "      <td>0.003349</td>\n",
       "      <td>0.000372</td>\n",
       "      <td>0.999671</td>\n",
       "      <td>0.000003</td>\n",
       "      <td>0.000005</td>\n",
       "      <td>0.001374</td>\n",
       "      <td>0.000178</td>\n",
       "      <td>0.000114</td>\n",
       "      <td>0.000173</td>\n",
       "      <td>0.999988</td>\n",
       "      <td>0.000655</td>\n",
       "      <td>0.000477</td>\n",
       "      <td>0.000021</td>\n",
       "      <td>0.001622</td>\n",
       "    </tr>\n",
       "    <tr>\n",
       "      <th>1</th>\n",
       "      <td>0.812595</td>\n",
       "      <td>0.002912</td>\n",
       "      <td>0.064228</td>\n",
       "      <td>0.013822</td>\n",
       "      <td>0.019924</td>\n",
       "      <td>0.989033</td>\n",
       "      <td>0.000212</td>\n",
       "      <td>0.003115</td>\n",
       "      <td>0.375922</td>\n",
       "      <td>0.162836</td>\n",
       "      <td>0.002701</td>\n",
       "      <td>0.011726</td>\n",
       "      <td>0.997921</td>\n",
       "      <td>0.297046</td>\n",
       "      <td>0.034870</td>\n",
       "      <td>0.043097</td>\n",
       "      <td>0.284184</td>\n",
       "    </tr>\n",
       "    <tr>\n",
       "      <th>2</th>\n",
       "      <td>0.442796</td>\n",
       "      <td>0.000789</td>\n",
       "      <td>0.013488</td>\n",
       "      <td>0.001359</td>\n",
       "      <td>0.001171</td>\n",
       "      <td>0.933547</td>\n",
       "      <td>0.000127</td>\n",
       "      <td>0.000896</td>\n",
       "      <td>0.260054</td>\n",
       "      <td>0.094133</td>\n",
       "      <td>0.057215</td>\n",
       "      <td>0.013577</td>\n",
       "      <td>0.998687</td>\n",
       "      <td>0.568704</td>\n",
       "      <td>0.009136</td>\n",
       "      <td>0.002718</td>\n",
       "      <td>0.864521</td>\n",
       "    </tr>\n",
       "  </tbody>\n",
       "</table>\n",
       "</div>"
      ],
      "text/plain": [
       "   agriculture  artisinal_mine  bare_ground  blooming  blow_down     clear  \\\n",
       "0     0.002341        0.000002     0.000116  0.003349   0.000372  0.999671   \n",
       "1     0.812595        0.002912     0.064228  0.013822   0.019924  0.989033   \n",
       "2     0.442796        0.000789     0.013488  0.001359   0.001171  0.933547   \n",
       "\n",
       "     cloudy  conventional_mine  cultivation  habitation      haze  \\\n",
       "0  0.000003           0.000005     0.001374    0.000178  0.000114   \n",
       "1  0.000212           0.003115     0.375922    0.162836  0.002701   \n",
       "2  0.000127           0.000896     0.260054    0.094133  0.057215   \n",
       "\n",
       "   partly_cloudy   primary      road  selective_logging  slash_burn     water  \n",
       "0       0.000173  0.999988  0.000655           0.000477    0.000021  0.001622  \n",
       "1       0.011726  0.997921  0.297046           0.034870    0.043097  0.284184  \n",
       "2       0.013577  0.998687  0.568704           0.009136    0.002718  0.864521  "
      ]
     },
     "execution_count": 39,
     "metadata": {},
     "output_type": "execute_result"
    }
   ],
   "source": [
    "\n",
    "df.head(3)"
   ]
  },
  {
   "cell_type": "code",
   "execution_count": 40,
   "metadata": {},
   "outputs": [
    {
     "data": {
      "text/plain": [
       "array([[0.00234, 0.     , 0.00012, ..., 0.00048, 0.00002, 0.00162],\n",
       "       [0.8126 , 0.00291, 0.06423, ..., 0.03487, 0.0431 , 0.28418],\n",
       "       [0.4428 , 0.00079, 0.01349, ..., 0.00914, 0.00272, 0.86452],\n",
       "       ...,\n",
       "       [0.00016, 0.     , 0.00001, ..., 0.00004, 0.     , 0.00025],\n",
       "       [0.02268, 0.00026, 0.00123, ..., 0.00183, 0.00162, 0.02422],\n",
       "       [0.2939 , 0.00013, 0.00576, ..., 0.00113, 0.00216, 0.99811]])"
      ]
     },
     "execution_count": 40,
     "metadata": {},
     "output_type": "execute_result"
    }
   ],
   "source": [
    "df.values"
   ]
  },
  {
   "cell_type": "code",
   "execution_count": 41,
   "metadata": {},
   "outputs": [],
   "source": [
    "c = np.array(learn.data.classes)\n",
    "\n",
    "label_text = np.array([' '.join(c[p>thres_opt]) for p in df.values])\n",
    "\n",
    "df_csv = pd.DataFrame({'image_name': [f[9:-4] for f in learn.data.test_ds.fnames], \n",
    "                   'tags': label_text})"
   ]
  },
  {
   "cell_type": "code",
   "execution_count": 42,
   "metadata": {},
   "outputs": [],
   "source": [
    "df_csv.to_csv('subm.csv', index=False)"
   ]
  },
  {
   "cell_type": "code",
   "execution_count": 34,
   "metadata": {},
   "outputs": [],
   "source": [
    "thres_opt=[0.17, 0.32,0.19,0.27,0.17, 0.15,0.1,0.27,0.19,0.16,0.17,0.16,0.3,0.2,0.16,0.17,0.18]"
   ]
  },
  {
   "cell_type": "code",
   "execution_count": 36,
   "metadata": {},
   "outputs": [
    {
     "data": {
      "text/plain": [
       "(61191, 2)"
      ]
     },
     "execution_count": 36,
     "metadata": {},
     "output_type": "execute_result"
    }
   ],
   "source": [
    "df.values.shape"
   ]
  },
  {
   "cell_type": "code",
   "execution_count": null,
   "metadata": {},
   "outputs": [],
   "source": []
  }
 ],
 "metadata": {
  "kernelspec": {
   "display_name": "Python 3",
   "language": "python",
   "name": "python3"
  },
  "language_info": {
   "codemirror_mode": {
    "name": "ipython",
    "version": 3
   },
   "file_extension": ".py",
   "mimetype": "text/x-python",
   "name": "python",
   "nbconvert_exporter": "python",
   "pygments_lexer": "ipython3",
   "version": "3.6.7"
  }
 },
 "nbformat": 4,
 "nbformat_minor": 2
}
